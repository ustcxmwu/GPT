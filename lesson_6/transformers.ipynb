{
 "cells": [
  {
   "cell_type": "markdown",
   "source": [
    "# 1. 多头自注意力 (包含残差连接和层归一化)"
   ],
   "metadata": {
    "collapsed": false
   },
   "id": "af31ec5f9bfd1030"
  },
  {
   "cell_type": "code",
   "source": [
    "import numpy as np\n",
    "import torch\n",
    "import torch.nn as nn\n",
    "\n",
    "d_k = 64  # K, Q 维度\n",
    "d_v = 64  # V 维度\n",
    "\n",
    "\n",
    "class ScaledDotProductAttention(nn.Module):\n",
    "\n",
    "    def __init__(self):\n",
    "        super().__init__()\n",
    "\n",
    "    def forward(self, Q, K, V, attn_mask):\n",
    "        scores = torch.matmul(Q, K.transpose(-1, -2)) / np.sqrt(d_k)\n",
    "        scores.masked_fill_(attn_mask, -1e9)\n",
    "        weights = nn.Softmax(dim=-1)(scores)\n",
    "\n",
    "        context = torch.matmul(weights, V)\n",
    "        return context, weights\n",
    "\n",
    "\n",
    "\n"
   ],
   "metadata": {
    "collapsed": false,
    "ExecuteTime": {
     "end_time": "2024-06-11T09:36:03.074310Z",
     "start_time": "2024-06-11T09:36:00.941275Z"
    }
   },
   "id": "6a5b692e9c2ec016",
   "outputs": [],
   "execution_count": 1
  },
  {
   "cell_type": "code",
   "source": [
    "d_embedding = 512\n",
    "n_heads = 8\n",
    "batch_size = 3\n",
    "\n",
    "\n",
    "class MultiHeadAttention(nn.Module):\n",
    "    def __init__(self):\n",
    "        super().__init__()\n",
    "        self.W_Q = nn.Linear(d_embedding, d_k * n_heads)\n",
    "        self.W_K = nn.Linear(d_embedding, d_k * n_heads)\n",
    "        self.W_V = nn.Linear(d_embedding, d_v * n_heads)\n",
    "        self.linear = nn.Linear(n_heads * d_v, d_embedding)\n",
    "        self.layer_norm = nn.LayerNorm(d_embedding)\n",
    "\n",
    "    def forward(self, Q, K, V, attn_mask):\n",
    "        residual, batch_size = Q, Q.size(0)\n",
    "        q_s = self.W_Q(Q).view(batch_size, -1, n_heads, d_k).transpose(1, 2)\n",
    "        k_s = self.W_K(K).view(batch_size, -1, n_heads, d_k).transpose(1, 2)\n",
    "        v_s = self.W_V(V).view(batch_size, -1, n_heads, d_v).transpose(1, 2)\n",
    "        attn_mask = attn_mask.unsqueeze(1).repeat(1, n_heads, 1, 1)\n",
    "        context, weights = ScaledDotProductAttention()(q_s, k_s, v_s, attn_mask)\n",
    "        context = context.transpose(1, 2).contiguous().view(batch_size, -1, n_heads*d_v)\n",
    "        output = self.linear(context)\n",
    "        output = self.layer_norm(output + residual)\n",
    "        return output, weights\n",
    "\n",
    "\n"
   ],
   "metadata": {
    "collapsed": false,
    "ExecuteTime": {
     "end_time": "2024-06-11T09:36:03.080653Z",
     "start_time": "2024-06-11T09:36:03.076170Z"
    }
   },
   "id": "352c5fa29ed9cae7",
   "outputs": [],
   "execution_count": 2
  },
  {
   "cell_type": "markdown",
   "source": [
    "# 2. 逐位置前馈网络(包含残差连接和层归一化)"
   ],
   "metadata": {
    "collapsed": false
   },
   "id": "cc572584c1e1e4cd"
  },
  {
   "cell_type": "code",
   "source": [
    "class PoswiseFeedForwardNet(nn.Module):\n",
    "    def __init__(self, d_ff=2048):\n",
    "        super().__init__()\n",
    "        self.conv1 = nn.Conv1d(in_channels=d_embedding, out_channels=d_ff, kernel_size=1)\n",
    "        self.conv2 = nn.Conv1d(in_channels=d_ff, out_channels=d_embedding, kernel_size=1)\n",
    "        self.layer_norm = nn.LayerNorm(d_embedding)\n",
    "\n",
    "    def forward(self, inputs):\n",
    "        residual = inputs\n",
    "        output = nn.ReLU()(self.conv1(inputs.transpose(1, 2)))\n",
    "        output = self.conv2(output).transpose(1, 2)\n",
    "        output = self.layer_norm(output + residual)\n",
    "        return output"
   ],
   "metadata": {
    "collapsed": false,
    "ExecuteTime": {
     "end_time": "2024-06-11T09:36:05.476031Z",
     "start_time": "2024-06-11T09:36:05.469970Z"
    }
   },
   "id": "cd34ad0333c6fce5",
   "outputs": [],
   "execution_count": 3
  },
  {
   "cell_type": "markdown",
   "source": [
    "# 3. 正弦位置编码表"
   ],
   "metadata": {
    "collapsed": false
   },
   "id": "541c96f0c04b873e"
  },
  {
   "cell_type": "code",
   "source": [
    "def get_sin_enc_table(n_position, embedding_dim):\n",
    "    sinusoid_table = np.zeros((n_position, embedding_dim))\n",
    "    for pos_i in range(n_position):\n",
    "        for hid_j in range(embedding_dim):\n",
    "            angle = pos_i / np.power(10000, 2 * (hid_j // 2) / embedding_dim)\n",
    "            sinusoid_table[pos_i, hid_j] = angle\n",
    "    sinusoid_table[:, 0::2] = np.sin(sinusoid_table[:, 0::2])\n",
    "    sinusoid_table[:, 1::2] = np.cos(sinusoid_table[:, 1::2])\n",
    "    return torch.FloatTensor(sinusoid_table)\n"
   ],
   "metadata": {
    "collapsed": false,
    "ExecuteTime": {
     "end_time": "2024-06-11T09:36:07.070644Z",
     "start_time": "2024-06-11T09:36:07.047013Z"
    }
   },
   "id": "4701b5e3e752ff6d",
   "outputs": [],
   "execution_count": 4
  },
  {
   "cell_type": "markdown",
   "source": [
    "# 4. 填充掩码"
   ],
   "metadata": {
    "collapsed": false
   },
   "id": "2be3927aebde3dc7"
  },
  {
   "cell_type": "code",
   "source": [
    "def get_attn_pad_mask(seq_q, seq_k):\n",
    "    batch_size, len_q = seq_q.size()\n",
    "    batch_size, len_k = seq_k.size()\n",
    "    pad_attn_mask = seq_k.data.eq(0).unsqueeze(1)\n",
    "    pad_attn_mask = pad_attn_mask.expand(batch_size, len_q, len_k)\n",
    "    return pad_attn_mask\n"
   ],
   "metadata": {
    "collapsed": false,
    "ExecuteTime": {
     "end_time": "2024-06-11T09:36:08.643816Z",
     "start_time": "2024-06-11T09:36:08.638109Z"
    }
   },
   "id": "d731c6513c267692",
   "outputs": [],
   "execution_count": 5
  },
  {
   "cell_type": "markdown",
   "source": [
    "# 5. 编码器层"
   ],
   "metadata": {
    "collapsed": false
   },
   "id": "801d2f79e4dc201c"
  },
  {
   "cell_type": "code",
   "source": [
    "class EncoderLayer(nn.Module):\n",
    "    def __init__(self):\n",
    "        super().__init__()\n",
    "        self.enc_self_attn = MultiHeadAttention()\n",
    "        self.pos_ffn = PoswiseFeedForwardNet()\n",
    "\n",
    "    def forward(self, enc_inputs, enc_self_attn_mask):\n",
    "        enc_outputs, attn_weights = self.enc_self_attn(enc_inputs, enc_inputs, enc_inputs, enc_self_attn_mask)\n",
    "        enc_outputs = self.pos_ffn(enc_outputs)\n",
    "        return enc_outputs, attn_weights\n"
   ],
   "metadata": {
    "collapsed": false,
    "ExecuteTime": {
     "end_time": "2024-06-11T09:36:10.053129Z",
     "start_time": "2024-06-11T09:36:10.048230Z"
    }
   },
   "id": "726ad54697dcd27d",
   "outputs": [],
   "execution_count": 6
  },
  {
   "cell_type": "markdown",
   "source": [
    "# 6. 编码器"
   ],
   "metadata": {
    "collapsed": false
   },
   "id": "9a4d676bd7cc3734"
  },
  {
   "cell_type": "code",
   "source": [
    "n_layer = 6\n",
    "\n",
    "\n",
    "class Encoder(nn.Module):\n",
    "    def __init__(self, corpus):\n",
    "        super().__init__()\n",
    "        self.src_emb = nn.Embedding(len(corpus.src_vocab), d_embedding)\n",
    "        self.pos_emb = nn.Embedding.from_pretrained(get_sin_enc_table(corpus.src_len + 1, d_embedding), freeze=True)\n",
    "        self.layers = nn.ModuleList(EncoderLayer() for _ in range(n_layer))\n",
    "\n",
    "    def forward(self, enc_inputs):\n",
    "        pos_indices = torch.arange(1, enc_inputs.size(1) + 1).unsqueeze(0).to(enc_inputs)\n",
    "        enc_outputs = self.src_emb(enc_inputs) + self.pos_emb(pos_indices)\n",
    "        enc_self_attn_mask = get_attn_pad_mask(enc_inputs, enc_inputs)\n",
    "        enc_self_attn_weights = []\n",
    "        for layer in self.layers:\n",
    "            enc_outputs, enc_self_attn_weight = layer(enc_outputs, enc_self_attn_mask)\n",
    "            enc_self_attn_weights.append(enc_self_attn_weight)\n",
    "        return enc_outputs, enc_self_attn_weights"
   ],
   "metadata": {
    "collapsed": false,
    "ExecuteTime": {
     "end_time": "2024-06-11T09:36:11.658278Z",
     "start_time": "2024-06-11T09:36:11.650373Z"
    }
   },
   "id": "4691accd1f17b366",
   "outputs": [],
   "execution_count": 7
  },
  {
   "cell_type": "markdown",
   "source": [
    "# 7. 后续掩码"
   ],
   "metadata": {
    "collapsed": false
   },
   "id": "290687241a66709d"
  },
  {
   "cell_type": "code",
   "source": [
    "def get_attn_subsequent_mask(seq):\n",
    "    attn_shape = [seq.size(0), seq.size(1), seq.size(1)]\n",
    "    subsequent_mask = np.triu(np.ones(attn_shape), k=1)\n",
    "    subsequent_mask = torch.from_numpy(subsequent_mask).byte()\n",
    "    return subsequent_mask\n"
   ],
   "metadata": {
    "collapsed": false,
    "ExecuteTime": {
     "end_time": "2024-06-11T09:36:13.395866Z",
     "start_time": "2024-06-11T09:36:13.390183Z"
    }
   },
   "id": "a088074255115d9d",
   "outputs": [],
   "execution_count": 8
  },
  {
   "cell_type": "markdown",
   "source": [
    "# 8. 解码器层"
   ],
   "metadata": {
    "collapsed": false
   },
   "id": "388da20fd9b226a2"
  },
  {
   "cell_type": "code",
   "source": [
    "class DecoderLayer(nn.Module):\n",
    "    def __init__(self):\n",
    "        super().__init__()\n",
    "        self.dec_self_attn = MultiHeadAttention()\n",
    "        self.dec_enc_attn = MultiHeadAttention()\n",
    "        self.pos_ffn = PoswiseFeedForwardNet()\n",
    "\n",
    "    def forward(self, dec_inputs, enc_outputs, dec_self_attn_mask, dec_enc_attn_mask):\n",
    "        dec_outputs, dec_self_attn = self.dec_self_attn(dec_inputs, dec_inputs, dec_inputs, dec_self_attn_mask)\n",
    "        dec_outputs, dec_enc_attn = self.dec_enc_attn(dec_outputs, enc_outputs, enc_outputs, dec_enc_attn_mask)\n",
    "        dec_outputs = self.pos_ffn(dec_outputs)\n",
    "        return dec_outputs, dec_self_attn, dec_enc_attn"
   ],
   "metadata": {
    "collapsed": false,
    "ExecuteTime": {
     "end_time": "2024-06-11T09:36:14.881927Z",
     "start_time": "2024-06-11T09:36:14.868200Z"
    }
   },
   "id": "abc73a3cb28c2807",
   "outputs": [],
   "execution_count": 9
  },
  {
   "cell_type": "markdown",
   "source": [
    "# 9. 解码器"
   ],
   "metadata": {
    "collapsed": false
   },
   "id": "fa2c987358c65001"
  },
  {
   "cell_type": "code",
   "source": [
    "n_layer = 6\n",
    "\n",
    "\n",
    "class Decoder(nn.Module):\n",
    "    def __init__(self, corpus):\n",
    "        super().__init__()\n",
    "        self.tgt_emb = nn.Embedding(len(corpus.tgt_vocab), d_embedding)\n",
    "        self.pos_emb = nn.Embedding.from_pretrained(get_sin_enc_table(corpus.tgt_len + 1, d_embedding), freeze=True)\n",
    "        self.layers = nn.ModuleList(DecoderLayer() for _ in range(n_layer))\n",
    "\n",
    "    def forward(self, dec_inputs, enc_inputs, enc_outputs):\n",
    "        pos_indices = torch.arange(1, dec_inputs.size(1) + 1).unsqueeze(0).to(dec_inputs)\n",
    "        dec_outputs = self.tgt_emb(dec_inputs) + self.pos_emb(pos_indices)\n",
    "\n",
    "        dec_self_attn_pad_mask = get_attn_pad_mask(dec_inputs, dec_inputs)\n",
    "        dec_self_subsequent_mask = get_attn_subsequent_mask(dec_inputs)\n",
    "        dec_self_attn_mask = torch.gt((dec_self_attn_pad_mask + dec_self_subsequent_mask), 0)\n",
    "        dec_enc_attn_mask = get_attn_pad_mask(dec_inputs, enc_inputs)\n",
    "        dec_self_attns, dec_enc_attns = [], []\n",
    "        for layer in self.layers:\n",
    "            dec_outputs, dec_self_attn, dec_enc_attn = layer(dec_outputs, enc_outputs, dec_enc_attn_mask,\n",
    "                                                             dec_self_attn_mask)\n",
    "            dec_self_attns.append(dec_self_attn)\n",
    "            dec_enc_attns.append(dec_enc_attn)\n",
    "        return dec_outputs, dec_self_attns, dec_enc_attns\n"
   ],
   "metadata": {
    "collapsed": false,
    "ExecuteTime": {
     "end_time": "2024-06-11T09:36:17.107592Z",
     "start_time": "2024-06-11T09:36:17.098871Z"
    }
   },
   "id": "ffae21253ffaa06e",
   "outputs": [],
   "execution_count": 10
  },
  {
   "cell_type": "markdown",
   "source": [
    "# 10. Transformer 类"
   ],
   "metadata": {
    "collapsed": false
   },
   "id": "14e6a8b8205f989d"
  },
  {
   "cell_type": "code",
   "source": [
    "class Transformer(nn.Module):\n",
    "    def __init__(self, corpus):\n",
    "        super().__init__()\n",
    "        self.encoder = Encoder(corpus)\n",
    "        self.decoder = Decoder(corpus)\n",
    "        self.projection = nn.Linear(d_embedding, len(corpus.tgt_vocab), bias=False)\n",
    "\n",
    "    def forward(self, enc_inputs, dec_inputs):\n",
    "        enc_outputs, enc_self_attns = self.encoder(enc_inputs)\n",
    "        dec_outputs, dec_self_attns, dec_enc_attns = self.decoder(dec_inputs, enc_inputs, enc_outputs)\n",
    "        dec_logits = self.projection(dec_outputs)\n",
    "        return dec_logits, enc_self_attns, dec_self_attns, dec_enc_attns\n"
   ],
   "metadata": {
    "collapsed": false,
    "ExecuteTime": {
     "end_time": "2024-06-11T09:40:00.901235Z",
     "start_time": "2024-06-11T09:40:00.890771Z"
    }
   },
   "id": "77b6d61c98528851",
   "outputs": [],
   "execution_count": 11
  },
  {
   "cell_type": "markdown",
   "source": [
    "11. 翻译任务"
   ],
   "metadata": {
    "collapsed": false
   },
   "id": "9859366110701e61"
  },
  {
   "cell_type": "code",
   "source": [
    "sentences = [\n",
    "    [\"咖哥 喜欢 小冰\", \"KaGe likes XiaoBing\"],\n",
    "    [\"我 爱 学习 人工智能\", \"I love studying AI\"],\n",
    "    [\"深度学习 改变 世界\", \"DL changed the world\"],\n",
    "    [\"自然语言处理 很 强大\", \"NLP is powerful\"],\n",
    "    [\"神经网络 非常 复杂\", \"Neural-networks are complex\"]\n",
    "]"
   ],
   "metadata": {
    "collapsed": false,
    "ExecuteTime": {
     "end_time": "2024-06-11T09:40:02.519606Z",
     "start_time": "2024-06-11T09:40:02.516237Z"
    }
   },
   "id": "38f4488b064cc166",
   "outputs": [],
   "execution_count": 12
  },
  {
   "cell_type": "code",
   "source": [
    "from collections import Counter\n",
    "\n",
    "\n",
    "class TranslationCorpus(object):\n",
    "    def __init__(self, sentences):\n",
    "        self.sentences = sentences\n",
    "        self.src_len = max(len(sentence[0].split()) for sentence in self.sentences) + 1\n",
    "        self.tgt_len = max(len(sentence[1].split()) for sentence in self.sentences) + 2\n",
    "        self.src_vocab, self.tgt_vocab = self.create_vocabularies()\n",
    "        self.src_idx2word = {v: k for k, v in self.src_vocab.items()}\n",
    "        self.tgt_idx2word = {v: k for k, v in self.tgt_vocab.items()}\n",
    "\n",
    "    def create_vocabularies(self):\n",
    "        src_counter = Counter(word for sentence in self.sentences for word in sentence[0].split())\n",
    "        tgt_counter = Counter(word for sentence in self.sentences for word in sentence[1].split())\n",
    "        src_vocab = {\"<pad>\": 0, **{word: i + 1 for i, word in enumerate(src_counter)}}\n",
    "        tgt_vodab = {\"<pad>\": 0, \"<sos>\": 1, \"<eos>\": 2, **{word: i + 3 for i, word in enumerate(tgt_counter)}}\n",
    "        return src_vocab, tgt_vodab\n",
    "\n",
    "    def make_batch(self, batch_size, test_batch=False):\n",
    "        input_batch, output_batch, target_batch = [], [], []\n",
    "        sentence_indices = torch.randperm(len(self.sentences))[:batch_size]\n",
    "        for index in sentence_indices:\n",
    "            src_sentence, tgt_sentence = self.sentences[index]\n",
    "            src_seq = [self.src_vocab[word] for word in src_sentence.split()]\n",
    "            tgt_seq = [self.tgt_vocab[\"<sos>\"]] + [self.tgt_vocab[word] for word in tgt_sentence.split()] + [\n",
    "                self.tgt_vocab[\"<eos>\"]]\n",
    "            src_seq += [self.src_vocab[\"<pad>\"]] * (self.src_len - len(src_seq))\n",
    "            tgt_seq += [self.tgt_vocab[\"<pad>\"]] * (self.tgt_len - len(tgt_seq))\n",
    "            input_batch.append(src_seq)\n",
    "            output_batch.append(\n",
    "                [self.tgt_vocab[\"<sos>\"]] + ([self.tgt_vocab[\"<pad>\"]] * (self.tgt_len - 2)) if test_batch else tgt_seq[\n",
    "                                                                                                                :-1])\n",
    "            target_batch.append(tgt_seq[1:])\n",
    "        input_batch = torch.LongTensor(input_batch)\n",
    "        output_batch = torch.LongTensor(output_batch)\n",
    "        target_batch = torch.LongTensor(target_batch)\n",
    "        return input_batch, output_batch, target_batch\n",
    "        "
   ],
   "metadata": {
    "collapsed": false,
    "ExecuteTime": {
     "end_time": "2024-06-11T09:40:03.482197Z",
     "start_time": "2024-06-11T09:40:03.473850Z"
    }
   },
   "id": "28642d60094a41ad",
   "outputs": [],
   "execution_count": 13
  },
  {
   "cell_type": "code",
   "source": [
    "corpus = TranslationCorpus(sentences)"
   ],
   "metadata": {
    "collapsed": false,
    "ExecuteTime": {
     "end_time": "2024-06-11T09:40:04.272240Z",
     "start_time": "2024-06-11T09:40:04.268269Z"
    }
   },
   "id": "b6b26477755bbaac",
   "outputs": [],
   "execution_count": 14
  },
  {
   "cell_type": "code",
   "source": [
    "import torch\n",
    "import torch.optim as optim\n",
    "\n",
    "model = Transformer(corpus)\n",
    "criterion = nn.CrossEntropyLoss()\n",
    "optimizer = optim.Adam(model.parameters(), lr=0.0001)\n",
    "epoch = 5000\n",
    "for i in range(epoch):\n",
    "    optimizer.zero_grad()\n",
    "    enc_inputs, dec_inputs, target_batch = corpus.make_batch(batch_size)\n",
    "    outputs, _, _, _ = model(enc_inputs, dec_inputs)\n",
    "    loss = criterion(outputs.view(-1, len(corpus.tgt_vocab)), target_batch.view(-1))\n",
    "    if (i + 1) % 100 == 0:\n",
    "        print(f\"Epoch: {i+1}, loss: {loss}\")\n",
    "    loss.backward()\n",
    "    optimizer.step()\n"
   ],
   "metadata": {
    "collapsed": false,
    "ExecuteTime": {
     "end_time": "2024-06-11T10:04:12.474323Z",
     "start_time": "2024-06-11T09:40:05.015062Z"
    }
   },
   "id": "910d939bd8d2f11d",
   "outputs": [
    {
     "name": "stdout",
     "output_type": "stream",
     "text": [
      "Epoch: 100, loss: 0.0007507604896090925\n",
      "Epoch: 200, loss: 0.0003803767031058669\n",
      "Epoch: 300, loss: 0.00029355756123550236\n",
      "Epoch: 400, loss: 0.00021208856196608394\n",
      "Epoch: 500, loss: 0.0001682763104327023\n",
      "Epoch: 600, loss: 0.00013763659808319062\n",
      "Epoch: 700, loss: 0.00011854994954774156\n",
      "Epoch: 800, loss: 0.00010400817700428888\n",
      "Epoch: 900, loss: 8.984762098407373e-05\n",
      "Epoch: 1000, loss: 8.519890980096534e-05\n",
      "Epoch: 1100, loss: 7.287375046871603e-05\n",
      "Epoch: 1200, loss: 6.932158430572599e-05\n",
      "Epoch: 1300, loss: 6.344100256683305e-05\n",
      "Epoch: 1400, loss: 5.880805110791698e-05\n",
      "Epoch: 1500, loss: 5.57564890186768e-05\n",
      "Epoch: 1600, loss: 5.0535425543785095e-05\n",
      "Epoch: 1700, loss: 4.8230827815132216e-05\n",
      "Epoch: 1800, loss: 4.618849197868258e-05\n",
      "Epoch: 1900, loss: 4.136471761739813e-05\n",
      "Epoch: 2000, loss: 4.101503873243928e-05\n",
      "Epoch: 2100, loss: 4.051439100294374e-05\n",
      "Epoch: 2200, loss: 3.928261503460817e-05\n",
      "Epoch: 2300, loss: 3.5023040254600346e-05\n",
      "Epoch: 2400, loss: 3.468132490525022e-05\n",
      "Epoch: 2500, loss: 3.21700717904605e-05\n",
      "Epoch: 2600, loss: 3.0175369829521514e-05\n",
      "Epoch: 2700, loss: 2.9801853088429198e-05\n",
      "Epoch: 2800, loss: 2.87607927020872e-05\n",
      "Epoch: 2900, loss: 2.7552845494938083e-05\n",
      "Epoch: 3000, loss: 2.671045695024077e-05\n",
      "Epoch: 3100, loss: 2.7433632567408495e-05\n",
      "Epoch: 3200, loss: 2.4167393348761834e-05\n",
      "Epoch: 3300, loss: 2.4079976356006227e-05\n",
      "Epoch: 3400, loss: 2.4048184059211053e-05\n",
      "Epoch: 3500, loss: 2.2570024157175794e-05\n",
      "Epoch: 3600, loss: 2.287200913997367e-05\n",
      "Epoch: 3700, loss: 2.253029015264474e-05\n",
      "Epoch: 3800, loss: 2.0821660655201413e-05\n",
      "Epoch: 3900, loss: 2.0233570467098616e-05\n",
      "Epoch: 4000, loss: 1.873157270892989e-05\n",
      "Epoch: 4100, loss: 1.8238848497276194e-05\n",
      "Epoch: 4200, loss: 1.9518334738677368e-05\n",
      "Epoch: 4300, loss: 1.8095797713613138e-05\n",
      "Epoch: 4400, loss: 1.7181879229610786e-05\n",
      "Epoch: 4500, loss: 1.718187559163198e-05\n",
      "Epoch: 4600, loss: 1.6498426703037694e-05\n",
      "Epoch: 4700, loss: 1.6164640328497626e-05\n",
      "Epoch: 4800, loss: 1.6244111975538544e-05\n",
      "Epoch: 4900, loss: 1.481362687627552e-05\n",
      "Epoch: 5000, loss: 1.4924885363143403e-05\n"
     ]
    }
   ],
   "execution_count": 15
  },
  {
   "cell_type": "code",
   "source": [
    "enc_inputs, dec_inputs, target_batch = corpus.make_batch(batch_size=1, test_batch=True)\n",
    "predict, enc_self_attns, dec_self_attns, dec_enc_attns = model(enc_inputs, dec_inputs)\n",
    "\n",
    "predict = predict.view(-1, len(corpus.tgt_vocab))\n",
    "predict = predict.max(1, keepdim=True)[1]\n",
    "\n",
    "translated_sentence = [corpus.tgt_idx2word[idx.item()] for idx in predict.squeeze(0)]\n",
    "\n",
    "input_sentence = \" \".join([corpus.src_idx2word[idx.item()] for idx in enc_inputs[0]])\n",
    "print(f\"{input_sentence} -> {translated_sentence}\")\n"
   ],
   "metadata": {
    "collapsed": false,
    "ExecuteTime": {
     "end_time": "2024-06-11T10:06:09.057198Z",
     "start_time": "2024-06-11T10:06:08.877665Z"
    }
   },
   "id": "50f036d412abccab",
   "outputs": [
    {
     "name": "stdout",
     "output_type": "stream",
     "text": [
      "深度学习 改变 世界 <pad> <pad> -> ['DL', 'DL', 'DL', 'DL', 'DL']\n"
     ]
    },
    {
     "name": "stderr",
     "output_type": "stream",
     "text": [
      "[W NNPACK.cpp:64] Could not initialize NNPACK! Reason: Unsupported hardware.\n"
     ]
    }
   ],
   "execution_count": 16
  },
  {
   "cell_type": "markdown",
   "source": [
    "# 11. 修正结果"
   ],
   "metadata": {
    "collapsed": false
   },
   "id": "acb401550b2fa3b2"
  },
  {
   "cell_type": "code",
   "source": [
    "def greedy_decoder(model, enc_inputs, start_symbol):\n",
    "    enc_outputs, enc_self_attns = model.encoder(enc_inputs)\n",
    "    dec_inputs = torch.zeros(1, 5).type_as(enc_inputs.data)\n",
    "    next_symbol = start_symbol\n",
    "    for i in range(0, 5):\n",
    "        dec_inputs[0][i] = next_symbol\n",
    "        dec_outputs, _, _ = model.decoder(dec_inputs, enc_inputs, enc_outputs)\n",
    "        projected = model.projection(dec_outputs)\n",
    "        prob = projected.squeeze(0).max(dim=-1, keepdim=False)[1]\n",
    "        next_word = prob.data[i]\n",
    "        next_symbol = next_word.item()\n",
    "    dec_outputs = dec_inputs\n",
    "    return dec_outputs"
   ],
   "metadata": {
    "collapsed": false,
    "ExecuteTime": {
     "end_time": "2024-06-11T10:06:18.678853Z",
     "start_time": "2024-06-11T10:06:18.670239Z"
    }
   },
   "id": "1a1ec96781bf6979",
   "outputs": [],
   "execution_count": 17
  },
  {
   "cell_type": "code",
   "source": [
    "enc_inputs, dec_inputs, target_batch = corpus.make_batch(batch_size=1, test_batch=True)\n",
    "predict, enc_self_attns, dec_self_attns, dec_enc_attns = model(enc_inputs, dec_inputs)\n",
    "\n",
    "gready_dec_input = greedy_decoder(model, enc_inputs, start_symbol=corpus.tgt_vocab[\"<sos>\"])\n",
    "greedy_dec_output_words = [corpus.tgt_idx2word[n.item()] for n in gready_dec_input.squeeze()]\n",
    "\n",
    "input_sentence = \" \".join([corpus.src_idx2word[idx.item()] for idx in enc_inputs[0]])\n",
    "print(f\"{input_sentence} -> {greedy_dec_output_words}\")"
   ],
   "metadata": {
    "collapsed": false,
    "ExecuteTime": {
     "end_time": "2024-06-11T10:06:20.238328Z",
     "start_time": "2024-06-11T10:06:19.926134Z"
    }
   },
   "id": "b1d15158a8cc3072",
   "outputs": [
    {
     "name": "stdout",
     "output_type": "stream",
     "text": [
      "深度学习 改变 世界 <pad> <pad> -> ['<sos>', 'DL', 'changed', 'the', 'world']\n"
     ]
    }
   ],
   "execution_count": 18
  },
  {
   "cell_type": "code",
   "source": [],
   "metadata": {
    "collapsed": false,
    "ExecuteTime": {
     "end_time": "2024-06-11T10:06:24.711702Z",
     "start_time": "2024-06-11T10:06:24.701795Z"
    }
   },
   "id": "1d15ae96f804cb4c",
   "outputs": [],
   "execution_count": 18
  },
  {
   "cell_type": "code",
   "outputs": [],
   "source": [],
   "metadata": {
    "collapsed": false
   },
   "id": "66780746a59c8208",
   "execution_count": null
  }
 ],
 "metadata": {
  "kernelspec": {
   "display_name": "Python 3",
   "language": "python",
   "name": "python3"
  },
  "language_info": {
   "codemirror_mode": {
    "name": "ipython",
    "version": 2
   },
   "file_extension": ".py",
   "mimetype": "text/x-python",
   "name": "python",
   "nbconvert_exporter": "python",
   "pygments_lexer": "ipython2",
   "version": "2.7.6"
  }
 },
 "nbformat": 4,
 "nbformat_minor": 5
}
