{
 "cells": [
  {
   "cell_type": "code",
   "execution_count": null,
   "id": "initial_id",
   "metadata": {
    "collapsed": true
   },
   "source": [],
   "outputs": []
  },
  {
   "cell_type": "code",
   "source": [
    "sentences = [\n",
    "    \"我 喜欢 玩具\",\n",
    "    \"我 爱 爸爸\",\n",
    "    \"我 讨厌 挨打\" \n",
    "]\n",
    "word_list = list(set(\" \".join(sentences).split()))\n",
    "word_to_idx = {w: i for i, w in enumerate(word_list)}\n",
    "idx_to_word = {i: w for i, w in enumerate(word_list)}\n",
    "\n",
    "voc_size = len(word_list)\n",
    "print(f\"词汇表: {word_to_idx}\")\n",
    "print(f\"词汇表大小: {voc_size}\")"
   ],
   "metadata": {
    "collapsed": false,
    "ExecuteTime": {
     "end_time": "2024-06-11T09:31:13.254059Z",
     "start_time": "2024-06-11T09:31:13.245928Z"
    }
   },
   "id": "835f2ba2980e7045",
   "outputs": [
    {
     "name": "stdout",
     "output_type": "stream",
     "text": [
      "词汇表: {'我': 0, '讨厌': 1, '爸爸': 2, '爱': 3, '挨打': 4, '玩具': 5, '喜欢': 6}\n",
      "词汇表大小: 7\n"
     ]
    }
   ],
   "execution_count": 1
  },
  {
   "cell_type": "code",
   "source": [
    "import torch\n",
    "import random\n",
    "\n",
    "batch_size = 2\n",
    "\n",
    "\n",
    "def make_batch():\n",
    "    input_batch = []\n",
    "    ouput_batch = []\n",
    "    selected_sentences = random.sample(sentences, batch_size)\n",
    "    for sent in selected_sentences:\n",
    "        word = sent.split()\n",
    "        inp = [word_to_idx[w] for w in word[:-1]]\n",
    "        target = word_to_idx[word[-1]]\n",
    "        input_batch.append(inp)\n",
    "        ouput_batch.append(target)\n",
    "    input_batch = torch.LongTensor(input_batch)\n",
    "    ouput_batch = torch.LongTensor(ouput_batch)\n",
    "    return input_batch, ouput_batch\n",
    "\n",
    "\n",
    "input_batch, output_batch = make_batch()\n",
    "print(f\"输入批处理数据: {input_batch}\")\n",
    "\n",
    "input_words = []\n",
    "for input_idx in input_batch:\n",
    "    input_words.append([idx_to_word[idx.item()] for idx in input_idx])\n",
    "print(f\"输入批处理数据的原始词: {input_words}\")\n",
    "\n",
    "print(f\"目标批处理数据: {output_batch}\")\n",
    "target_words = [idx_to_word[idx.item()] for idx in output_batch]\n",
    "print(f\"目标批处理数据的原始词: {target_words}\")"
   ],
   "metadata": {
    "collapsed": false,
    "ExecuteTime": {
     "end_time": "2024-06-11T09:31:16.214765Z",
     "start_time": "2024-06-11T09:31:14.856959Z"
    }
   },
   "id": "1a537fe247ac9515",
   "outputs": [
    {
     "name": "stdout",
     "output_type": "stream",
     "text": [
      "输入批处理数据: tensor([[0, 1],\n",
      "        [0, 6]])\n",
      "输入批处理数据的原始词: [['我', '讨厌'], ['我', '喜欢']]\n",
      "目标批处理数据: tensor([4, 5])\n",
      "目标批处理数据的原始词: ['挨打', '玩具']\n"
     ]
    }
   ],
   "execution_count": 2
  },
  {
   "cell_type": "code",
   "source": [
    "import torch.nn as nn\n",
    "\n",
    "class NPLM(nn.Module):\n",
    "    \n",
    "    def __init__(self, voc_size, embedding_size, n_hidden):\n",
    "        super().__init__()\n",
    "        self.voc_size = voc_size\n",
    "        self.embedding_size = embedding_size\n",
    "        self.n_hidden = n_hidden\n",
    "        self.C = nn.Embedding(voc_size, embedding_size)\n",
    "        self.lstm = nn.LSTM(embedding_size, n_hidden, batch_first=True)\n",
    "        self.linear = nn.Linear(n_hidden, voc_size)\n",
    "    \n",
    "    def forward(self, X):\n",
    "        X = self.C(X)\n",
    "        lstm_out, _ = self.lstm(X)\n",
    "        output = self.linear(lstm_out[:, -1, :])\n",
    "        return output\n",
    "    \n",
    "embedding_size = 2\n",
    "n_hidden = 2\n",
    "rnn_model = NPLM(voc_size, embedding_size, n_hidden)\n",
    "print(f\"RNN 模型结构: {rnn_model}\")\n",
    "        "
   ],
   "metadata": {
    "collapsed": false,
    "ExecuteTime": {
     "end_time": "2024-06-11T09:31:17.307749Z",
     "start_time": "2024-06-11T09:31:17.298538Z"
    }
   },
   "id": "f58dbb1a46550146",
   "outputs": [
    {
     "name": "stdout",
     "output_type": "stream",
     "text": [
      "RNN 模型结构: NPLM(\n",
      "  (C): Embedding(7, 2)\n",
      "  (lstm): LSTM(2, 2, batch_first=True)\n",
      "  (linear): Linear(in_features=2, out_features=7, bias=True)\n",
      ")\n"
     ]
    }
   ],
   "execution_count": 3
  },
  {
   "cell_type": "code",
   "source": [
    "import torch.optim as optim\n",
    "\n",
    "criterion = nn.CrossEntropyLoss()\n",
    "optimizer = optim.Adam(rnn_model.parameters(), lr=0.1)\n",
    "for epoch in range(5000):\n",
    "    optimizer.zero_grad()\n",
    "    input_batch, target_batch = make_batch()\n",
    "    output = rnn_model(input_batch)\n",
    "    loss = criterion(output, target_batch)\n",
    "    if (epoch + 1) % 1000 == 0:\n",
    "        print(f\"Epoch: {epoch+1}, Loss: {loss:.6f}\")\n",
    "    loss.backward()\n",
    "    optimizer.step()"
   ],
   "metadata": {
    "collapsed": false,
    "ExecuteTime": {
     "end_time": "2024-06-11T09:31:25.141546Z",
     "start_time": "2024-06-11T09:31:18.311446Z"
    }
   },
   "id": "2a846e72138276aa",
   "outputs": [
    {
     "name": "stdout",
     "output_type": "stream",
     "text": [
      "Epoch: 1000, Loss: 0.005707\n",
      "Epoch: 2000, Loss: 0.002326\n",
      "Epoch: 3000, Loss: 0.000392\n",
      "Epoch: 4000, Loss: 0.000507\n",
      "Epoch: 5000, Loss: 0.000278\n"
     ]
    }
   ],
   "execution_count": 4
  },
  {
   "cell_type": "code",
   "source": [
    "inputs = [[\"我\", \"讨厌\"], [\"我\", \"喜欢\"]]\n",
    "input_idx = [[word_to_idx[w] for w in sent] for  sent in inputs]\n",
    "input_batch = torch.LongTensor(input_batch)\n",
    "\n",
    "predict = rnn_model(input_batch).data.max(1)[1]\n",
    "predict_str = [idx_to_word[p.item()] for p in predict.squeeze()]\n",
    "for input_seq, pred in zip(inputs, predict_str):\n",
    "    print(f\"{input_seq} -> {pred}\")"
   ],
   "metadata": {
    "collapsed": false,
    "ExecuteTime": {
     "end_time": "2024-06-11T09:31:27.354151Z",
     "start_time": "2024-06-11T09:31:27.346892Z"
    }
   },
   "id": "f997273376d5cbdc",
   "outputs": [
    {
     "name": "stdout",
     "output_type": "stream",
     "text": [
      "['我', '讨厌'] -> 爸爸\n",
      "['我', '喜欢'] -> 挨打\n"
     ]
    }
   ],
   "execution_count": 5
  },
  {
   "cell_type": "code",
   "source": [],
   "metadata": {
    "collapsed": false
   },
   "id": "1090e34844f10e14",
   "execution_count": null,
   "outputs": []
  }
 ],
 "metadata": {
  "kernelspec": {
   "display_name": "Python 3",
   "language": "python",
   "name": "python3"
  },
  "language_info": {
   "codemirror_mode": {
    "name": "ipython",
    "version": 2
   },
   "file_extension": ".py",
   "mimetype": "text/x-python",
   "name": "python",
   "nbconvert_exporter": "python",
   "pygments_lexer": "ipython2",
   "version": "2.7.6"
  }
 },
 "nbformat": 4,
 "nbformat_minor": 5
}
