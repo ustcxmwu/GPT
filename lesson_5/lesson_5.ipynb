{
 "cells": [
  {
   "cell_type": "markdown",
   "source": [
    "# 向量点击注意力"
   ],
   "metadata": {
    "collapsed": false
   },
   "id": "64374df16871af7c"
  },
  {
   "cell_type": "code",
   "source": [
    "import torch\n",
    "import torch.nn.functional as F\n",
    "\n",
    "x1 = torch.randn(2, 3, 4)\n",
    "x2 = torch.randn(2, 5, 4)\n",
    "\n",
    "raw_weights = torch.bmm(x1, x2.transpose(1, 2))\n",
    "print(raw_weights)\n",
    "\n",
    "attn_weights = F.softmax(raw_weights, dim=2)\n",
    "print(attn_weights)\n",
    "\n",
    "attn_output = torch.bmm(attn_weights, x2)\n",
    "print(attn_output)"
   ],
   "metadata": {
    "collapsed": false,
    "ExecuteTime": {
     "end_time": "2024-06-11T09:34:34.364591Z",
     "start_time": "2024-06-11T09:34:33.504846Z"
    }
   },
   "id": "e242ae97e792689d",
   "outputs": [
    {
     "name": "stdout",
     "output_type": "stream",
     "text": [
      "tensor([[[ 0.5581, -0.1522,  0.5414, -2.7451,  3.5380],\n",
      "         [-1.8462, -0.7459, -0.4466,  1.3910, -2.4597],\n",
      "         [ 1.4161,  0.2994,  0.2445,  0.4288, -0.1966]],\n",
      "\n",
      "        [[ 0.4140,  1.2037,  1.6825,  2.9019, -1.6379],\n",
      "         [-2.9567, -0.4334,  0.7550,  0.4601,  1.6627],\n",
      "         [ 2.6818,  0.3124, -1.6607,  2.0922,  0.6671]]])\n",
      "tensor([[[0.0451, 0.0221, 0.0443, 0.0017, 0.8868],\n",
      "         [0.0294, 0.0882, 0.1190, 0.7475, 0.0159],\n",
      "         [0.4527, 0.1482, 0.1403, 0.1686, 0.0902]],\n",
      "\n",
      "        [[0.0528, 0.1164, 0.1879, 0.6361, 0.0068],\n",
      "         [0.0054, 0.0669, 0.2197, 0.1636, 0.5445],\n",
      "         [0.5573, 0.0521, 0.0072, 0.3090, 0.0743]]])\n",
      "tensor([[[-0.5110,  1.5456,  0.7920, -0.1922],\n",
      "         [ 0.0240, -1.4977, -0.0511, -0.0834],\n",
      "         [-0.2605, -0.7335,  0.5971, -0.4711]],\n",
      "\n",
      "        [[-0.4566, -0.7071,  0.5643, -0.4876],\n",
      "         [ 0.2462, -0.2368,  0.4182,  0.2275],\n",
      "         [ 0.4755, -1.2205, -0.3008, -0.1270]]])\n"
     ]
    }
   ],
   "execution_count": 1
  },
  {
   "cell_type": "markdown",
   "source": [
    "# 缩放向量点积注意力"
   ],
   "metadata": {
    "collapsed": false
   },
   "id": "eabb665bed4be000"
  },
  {
   "cell_type": "code",
   "source": [
    "import torch\n",
    "import torch.nn.functional as F\n",
    "\n",
    "x1 = torch.randn(2, 3, 4)\n",
    "x2 = torch.randn(2, 5, 4)\n",
    "\n",
    "raw_weights = torch.bmm(x1, x2.transpose(1, 2))\n",
    "print(raw_weights)\n",
    "\n",
    "scale_factor = x1.size(-1)**5\n",
    "scaled_weights = raw_weights / scale_factor\n",
    "print(scaled_weights)\n",
    "\n",
    "attn_weights = F.softmax(raw_weights, dim=2)\n",
    "print(attn_weights)\n",
    "\n",
    "attn_output = torch.bmm(attn_weights, x2)\n",
    "print(attn_output)"
   ],
   "metadata": {
    "collapsed": false,
    "ExecuteTime": {
     "end_time": "2024-06-11T09:34:36.045105Z",
     "start_time": "2024-06-11T09:34:36.033708Z"
    }
   },
   "id": "e854436393d552a1",
   "outputs": [
    {
     "name": "stdout",
     "output_type": "stream",
     "text": [
      "tensor([[[-2.2115,  0.2237,  2.6573, -1.6398, -0.3084],\n",
      "         [-0.7205,  0.4903,  0.5500,  0.0727,  0.1181],\n",
      "         [-0.7693, -0.6200, -1.7571,  1.3097, -0.2507]],\n",
      "\n",
      "        [[ 2.4940, -1.8637, -1.2612,  2.0444, -0.9162],\n",
      "         [ 0.6009,  1.2410,  1.9945, -0.8985,  0.0742],\n",
      "         [-3.6895, -0.4852,  1.7573, -3.3288, -3.0885]]])\n",
      "tensor([[[-2.1597e-03,  2.1841e-04,  2.5950e-03, -1.6014e-03, -3.0118e-04],\n",
      "         [-7.0357e-04,  4.7880e-04,  5.3711e-04,  7.0968e-05,  1.1535e-04],\n",
      "         [-7.5125e-04, -6.0542e-04, -1.7159e-03,  1.2790e-03, -2.4487e-04]],\n",
      "\n",
      "        [[ 2.4355e-03, -1.8200e-03, -1.2316e-03,  1.9965e-03, -8.9469e-04],\n",
      "         [ 5.8679e-04,  1.2119e-03,  1.9477e-03, -8.7743e-04,  7.2462e-05],\n",
      "         [-3.6030e-03, -4.7384e-04,  1.7161e-03, -3.2508e-03, -3.0161e-03]]])\n",
      "tensor([[[0.0066, 0.0756, 0.8617, 0.0117, 0.0444],\n",
      "         [0.0804, 0.2697, 0.2863, 0.1777, 0.1859],\n",
      "         [0.0819, 0.0951, 0.0305, 0.6549, 0.1376]],\n",
      "\n",
      "        [[0.5858, 0.0075, 0.0137, 0.3737, 0.0194],\n",
      "         [0.1292, 0.2450, 0.5206, 0.0288, 0.0763],\n",
      "         [0.0038, 0.0944, 0.8892, 0.0055, 0.0070]]])\n",
      "tensor([[[ 0.5635,  1.2587, -0.0152,  1.0900],\n",
      "         [ 0.1968,  0.2412, -0.3735,  0.4314],\n",
      "         [-0.4797, -0.3074, -0.2488, -0.6540]],\n",
      "\n",
      "        [[ 0.8204,  0.1606, -1.7997, -0.0253],\n",
      "         [ 0.4541,  0.8445, -0.1988, -0.5588],\n",
      "         [ 0.8560,  1.1513,  0.4851, -0.5770]]])\n"
     ]
    }
   ],
   "execution_count": 2
  },
  {
   "cell_type": "code",
   "source": [
    "x1.size(-1)**0.5"
   ],
   "metadata": {
    "collapsed": false,
    "ExecuteTime": {
     "end_time": "2024-06-11T09:34:36.907308Z",
     "start_time": "2024-06-11T09:34:36.899822Z"
    }
   },
   "id": "4ea1fedd7ad7910b",
   "outputs": [
    {
     "data": {
      "text/plain": [
       "2.0"
      ]
     },
     "execution_count": 3,
     "metadata": {},
     "output_type": "execute_result"
    }
   ],
   "execution_count": 3
  },
  {
   "cell_type": "code",
   "source": [
    "%reset -f\n",
    "sentences = [\n",
    "    [\"咖哥 喜欢 小冰\", \"<sos> KaGe likes XiaoBing\", \"KaGe likes XiaoBing <eos>\"],\n",
    "    [\"我 爱 学习 人工智能\", \"<sos> I love studying AI\", \"I love studying AI <eos>\"],\n",
    "    [\"深度学习 改变 世界\", \"<sos> DL changed the world\", \"DL changed the world <eos>\"],\n",
    "    [\"自然 语言 处理 很 强大\", \"<sos> NLP is so powerful\", \"NLP is so powerful <eos>\"],\n",
    "    [\"神经网络 非常 复杂\", \"<sos> Neural-Nets are complex\", \"Neural-Nets are complex <eos>\"]\n",
    "]\n",
    "word_list_cn, word_list_en = [], []\n",
    "for s in sentences:\n",
    "    word_list_cn.extend(s[0].split())\n",
    "    word_list_en.extend(s[1].split())\n",
    "    word_list_en.extend(s[2].split())\n",
    "word_list_cn = list(set(word_list_cn))\n",
    "word_list_en = list(set(word_list_en))\n",
    "\n",
    "word_2_idx_cn = {w: i for i, w in enumerate(word_list_cn)}\n",
    "word_2_idx_en = {w: i for i, w in enumerate(word_list_en)}\n",
    "\n",
    "idx_2_word_cn = {i: w for i, w in enumerate(word_list_cn)}\n",
    "idx_2_word_en = {i: w for i, w in enumerate(word_list_en)}\n",
    "\n",
    "voc_size_cn = len(word_list_cn)\n",
    "voc_size_en = len(word_list_en)\n",
    "\n",
    "print(f\"句子数量: {len(sentences)}\")\n",
    "print(f\"中文词汇表大小: {voc_size_cn}\")\n",
    "print(f\"英文词汇表大小: {voc_size_en}\")\n",
    "print(f\"中文词汇到索引: {word_2_idx_cn}\")\n",
    "print(f\"英文词汇到索引: {word_2_idx_en}\")"
   ],
   "metadata": {
    "collapsed": false,
    "ExecuteTime": {
     "end_time": "2024-06-11T09:34:37.725630Z",
     "start_time": "2024-06-11T09:34:37.587127Z"
    }
   },
   "id": "921e21b992e4b77a",
   "outputs": [
    {
     "name": "stdout",
     "output_type": "stream",
     "text": [
      "句子数量: 5\n",
      "中文词汇表大小: 18\n",
      "英文词汇表大小: 20\n",
      "中文词汇到索引: {'咖哥': 0, '改变': 1, '学习': 2, '自然': 3, '小冰': 4, '深度学习': 5, '处理': 6, '喜欢': 7, '神经网络': 8, '我': 9, '强大': 10, '爱': 11, '复杂': 12, '人工智能': 13, '很': 14, '世界': 15, '语言': 16, '非常': 17}\n",
      "英文词汇到索引: {'world': 0, 'love': 1, 'AI': 2, 'powerful': 3, 'I': 4, '<eos>': 5, 'DL': 6, 'is': 7, 'changed': 8, 'so': 9, 'studying': 10, 'are': 11, 'the': 12, 'likes': 13, 'complex': 14, 'Neural-Nets': 15, 'NLP': 16, '<sos>': 17, 'XiaoBing': 18, 'KaGe': 19}\n"
     ]
    }
   ],
   "execution_count": 4
  },
  {
   "cell_type": "code",
   "source": [
    "import numpy as np\n",
    "import torch\n",
    "import random\n",
    "\n",
    "def make_data(sentences):\n",
    "    random_sentence = random.choice(sentences)\n",
    "    encoder_input = np.array([[word_2_idx_cn[w] for w in random_sentence[0].split()]])\n",
    "    decoder_input = np.array([[word_2_idx_en[w] for w in random_sentence[1].split()]])\n",
    "    target = np.array([[word_2_idx_en[w] for w in random_sentence[2].split()]])\n",
    "    encoder_input = torch.LongTensor(encoder_input)\n",
    "    decoder_input = torch.LongTensor(decoder_input)\n",
    "    target = torch.LongTensor(target)\n",
    "    return encoder_input, decoder_input, target\n",
    "\n",
    "encoder_input, decoder_input, target = make_data(sentences)"
   ],
   "metadata": {
    "collapsed": false,
    "ExecuteTime": {
     "end_time": "2024-06-11T09:34:38.463102Z",
     "start_time": "2024-06-11T09:34:38.459338Z"
    }
   },
   "id": "36d6ec5e6a2b02f7",
   "outputs": [],
   "execution_count": 5
  },
  {
   "cell_type": "markdown",
   "source": [
    "# 1. 定义 Attention 类"
   ],
   "metadata": {
    "collapsed": false
   },
   "id": "ec0a2daae7ef746a"
  },
  {
   "cell_type": "code",
   "source": [
    "import torch.nn as nn\n",
    "\n",
    "class Attention(nn.Module):\n",
    "    \n",
    "    def __init__(self):\n",
    "        super().__init__()\n",
    "    \n",
    "    def forward(self, decoder_context, encoder_context):\n",
    "        scores = torch.matmul(decoder_context, encoder_context.transpose(-2, -1))\n",
    "        attn_weights = nn.functional.softmax(scores, dim=-1)\n",
    "        context = torch.matmul(attn_weights, encoder_context)\n",
    "        return context, attn_weights"
   ],
   "metadata": {
    "collapsed": false,
    "ExecuteTime": {
     "end_time": "2024-06-11T09:34:39.860171Z",
     "start_time": "2024-06-11T09:34:39.853289Z"
    }
   },
   "id": "30d8d9aed92b34b1",
   "outputs": [],
   "execution_count": 6
  },
  {
   "cell_type": "markdown",
   "source": [
    "# 2. 重构 Decoder 类"
   ],
   "metadata": {
    "collapsed": false
   },
   "id": "ce5a02bb40a7139a"
  },
  {
   "cell_type": "code",
   "source": [
    "import torch.nn as nn\n",
    "\n",
    "class Encoder(nn.Module):\n",
    "    def __init__(self, input_size, hidden_size):\n",
    "        super().__init__() \n",
    "        self.hidden_size = hidden_size\n",
    "        self.embedding  = nn.Embedding(input_size, hidden_size)\n",
    "        self.rnn = nn.RNN(hidden_size, hidden_size, batch_first=True)\n",
    "        \n",
    "    def forward(self, inputs, hidden):\n",
    "        embedded = self.embedding(inputs)\n",
    "        output, hidden = self.rnn(embedded, hidden)\n",
    "        return output, hidden\n",
    "\n",
    "class DecoderWithAttention(nn.Module):\n",
    "    \n",
    "    def __init__(self, hidden_size, output_size):\n",
    "        super().__init__()\n",
    "        self.hidden_size = hidden_size\n",
    "        self.embedding = nn.Embedding(output_size, hidden_size)\n",
    "        self.rnn = nn.RNN(hidden_size, hidden_size, batch_first=True)\n",
    "        self.attention = Attention()\n",
    "        self.out = nn.Linear(2*hidden_size, output_size)\n",
    "    \n",
    "    def forward(self, dec_input, hidden, enc_output):\n",
    "        embedded = self.embedding(dec_input)\n",
    "        rnn_output, hidden = self.rnn(embedded, hidden)\n",
    "        context, attn_weights = self.attention(rnn_output, enc_output)\n",
    "        dec_output = torch.cat((rnn_output, context), dim=-1)\n",
    "        dec_output = self.out(dec_output)\n",
    "        return dec_output, hidden, attn_weights\n",
    "\n",
    "n_hidden = 128\n",
    "encoder = Encoder(voc_size_cn, n_hidden)\n",
    "print(f\"编码器: {encoder}\")\n",
    "decoder = DecoderWithAttention(n_hidden, voc_size_en)\n",
    "print(f\"解码器: {decoder}\")"
   ],
   "metadata": {
    "collapsed": false,
    "ExecuteTime": {
     "end_time": "2024-06-11T09:34:41.400766Z",
     "start_time": "2024-06-11T09:34:41.391021Z"
    }
   },
   "id": "aa60154336407b35",
   "outputs": [
    {
     "name": "stdout",
     "output_type": "stream",
     "text": [
      "编码器: Encoder(\n",
      "  (embedding): Embedding(18, 128)\n",
      "  (rnn): RNN(128, 128, batch_first=True)\n",
      ")\n",
      "解码器: DecoderWithAttention(\n",
      "  (embedding): Embedding(20, 128)\n",
      "  (rnn): RNN(128, 128, batch_first=True)\n",
      "  (attention): Attention()\n",
      "  (out): Linear(in_features=256, out_features=20, bias=True)\n",
      ")\n"
     ]
    }
   ],
   "execution_count": 7
  },
  {
   "cell_type": "markdown",
   "source": [
    "# 重构 Seq2Seq 类"
   ],
   "metadata": {
    "collapsed": false
   },
   "id": "411ab046c5c61ed5"
  },
  {
   "cell_type": "code",
   "source": [
    "class Seq2Seq(nn.Module):\n",
    "    \n",
    "    def __init__(self, encoder, decoder):\n",
    "        super().__init__()\n",
    "        self.encoder = encoder\n",
    "        self.decoder = decoder\n",
    "        \n",
    "    def forward(self, encoder_input, hidden, decoder_input):\n",
    "        encoder_output, encoder_hidden = self.encoder(encoder_input, hidden)\n",
    "        decoder_hidden = encoder_hidden\n",
    "        decoder_output, _, attn_weights = self.decoder(decoder_input, decoder_hidden, encoder_output)\n",
    "        return decoder_output, attn_weights\n",
    "\n",
    "model = Seq2Seq(encoder, decoder)\n",
    "\n",
    "print(model)"
   ],
   "metadata": {
    "collapsed": false,
    "ExecuteTime": {
     "end_time": "2024-06-11T09:34:43.016723Z",
     "start_time": "2024-06-11T09:34:43.012460Z"
    }
   },
   "id": "89b50cbbcbb7b366",
   "outputs": [
    {
     "name": "stdout",
     "output_type": "stream",
     "text": [
      "Seq2Seq(\n",
      "  (encoder): Encoder(\n",
      "    (embedding): Embedding(18, 128)\n",
      "    (rnn): RNN(128, 128, batch_first=True)\n",
      "  )\n",
      "  (decoder): DecoderWithAttention(\n",
      "    (embedding): Embedding(20, 128)\n",
      "    (rnn): RNN(128, 128, batch_first=True)\n",
      "    (attention): Attention()\n",
      "    (out): Linear(in_features=256, out_features=20, bias=True)\n",
      "  )\n",
      ")\n"
     ]
    }
   ],
   "execution_count": 8
  },
  {
   "cell_type": "code",
   "source": [
    "def train_seq2seq(model, creterion, optimizer, epochs):\n",
    "    for epoch in range(epochs):\n",
    "        encoder_input, decoder_input, target = make_data(sentences)\n",
    "        hidden = torch.zeros(1, encoder_input.size(0), n_hidden)\n",
    "        optimizer.zero_grad()\n",
    "        output, _ = model(encoder_input, hidden, decoder_input)\n",
    "        loss = creterion(output.view(-1, voc_size_en), target.view(-1))\n",
    "        if (epoch + 1) % 100 == 0:\n",
    "            print(f\"Epoch: {epoch+1}, Loss: {loss:.10f}\")\n",
    "        loss.backward()\n",
    "        optimizer.step()\n",
    "\n",
    "epochs = 10000\n",
    "criterion = nn.CrossEntropyLoss()\n",
    "optimizer = torch.optim.Adam(model.parameters(), lr=0.001)\n",
    "train_seq2seq(model, criterion, optimizer, epochs)"
   ],
   "metadata": {
    "collapsed": false,
    "ExecuteTime": {
     "end_time": "2024-06-11T09:35:04.034331Z",
     "start_time": "2024-06-11T09:34:43.768891Z"
    }
   },
   "id": "b1b8fd4b45fbdec",
   "outputs": [
    {
     "name": "stdout",
     "output_type": "stream",
     "text": [
      "Epoch: 100, Loss: 0.0365854427\n",
      "Epoch: 200, Loss: 0.0117548853\n",
      "Epoch: 300, Loss: 0.0066191927\n",
      "Epoch: 400, Loss: 0.0044347146\n",
      "Epoch: 500, Loss: 0.0032337196\n",
      "Epoch: 600, Loss: 0.0018355509\n",
      "Epoch: 700, Loss: 0.0015071176\n",
      "Epoch: 800, Loss: 0.0011425490\n",
      "Epoch: 900, Loss: 0.0009421994\n",
      "Epoch: 1000, Loss: 0.0007898976\n",
      "Epoch: 1100, Loss: 0.0006574266\n",
      "Epoch: 1200, Loss: 0.0005754053\n",
      "Epoch: 1300, Loss: 0.0004926055\n",
      "Epoch: 1400, Loss: 0.0004334602\n",
      "Epoch: 1500, Loss: 0.0003932529\n",
      "Epoch: 1600, Loss: 0.0003289325\n",
      "Epoch: 1700, Loss: 0.0003063398\n",
      "Epoch: 1800, Loss: 0.0003418085\n",
      "Epoch: 1900, Loss: 0.0002340253\n",
      "Epoch: 2000, Loss: 0.0002353502\n",
      "Epoch: 2100, Loss: 0.0002120204\n",
      "Epoch: 2200, Loss: 0.0001856152\n",
      "Epoch: 2300, Loss: 0.0001725106\n",
      "Epoch: 2400, Loss: 0.0001763185\n",
      "Epoch: 2500, Loss: 0.0001430110\n",
      "Epoch: 2600, Loss: 0.0001328498\n",
      "Epoch: 2700, Loss: 0.0001298400\n",
      "Epoch: 2800, Loss: 0.0001082356\n",
      "Epoch: 2900, Loss: 0.0000997255\n",
      "Epoch: 3000, Loss: 0.0001000413\n",
      "Epoch: 3100, Loss: 0.0000878768\n",
      "Epoch: 3200, Loss: 0.0000963164\n",
      "Epoch: 3300, Loss: 0.0000896890\n",
      "Epoch: 3400, Loss: 0.0000719042\n",
      "Epoch: 3500, Loss: 0.0000688765\n",
      "Epoch: 3600, Loss: 0.0000618379\n",
      "Epoch: 3700, Loss: 0.0000691628\n",
      "Epoch: 3800, Loss: 0.0000653245\n",
      "Epoch: 3900, Loss: 0.0000503944\n",
      "Epoch: 4000, Loss: 0.0000495182\n",
      "Epoch: 4100, Loss: 0.0000456084\n",
      "Epoch: 4200, Loss: 0.0000516163\n",
      "Epoch: 4300, Loss: 0.0000417820\n",
      "Epoch: 4400, Loss: 0.0000376694\n",
      "Epoch: 4500, Loss: 0.0000340039\n",
      "Epoch: 4600, Loss: 0.0000331635\n",
      "Epoch: 4700, Loss: 0.0000308747\n",
      "Epoch: 4800, Loss: 0.0000295396\n",
      "Epoch: 4900, Loss: 0.0000275370\n",
      "Epoch: 5000, Loss: 0.0000302787\n",
      "Epoch: 5100, Loss: 0.0000246164\n",
      "Epoch: 5200, Loss: 0.0000248548\n",
      "Epoch: 5300, Loss: 0.0000219045\n",
      "Epoch: 5400, Loss: 0.0000234124\n",
      "Epoch: 5500, Loss: 0.0000210402\n",
      "Epoch: 5600, Loss: 0.0000198481\n",
      "Epoch: 5700, Loss: 0.0000195501\n",
      "Epoch: 5800, Loss: 0.0000184296\n",
      "Epoch: 5900, Loss: 0.0000163077\n",
      "Epoch: 6000, Loss: 0.0000155209\n",
      "Epoch: 6100, Loss: 0.0000147818\n",
      "Epoch: 6200, Loss: 0.0000141381\n",
      "Epoch: 6300, Loss: 0.0000132619\n",
      "Epoch: 6400, Loss: 0.0000115930\n",
      "Epoch: 6500, Loss: 0.0000116824\n",
      "Epoch: 6600, Loss: 0.0000104010\n",
      "Epoch: 6700, Loss: 0.0000109076\n",
      "Epoch: 6800, Loss: 0.0000108241\n",
      "Epoch: 6900, Loss: 0.0000103712\n",
      "Epoch: 7000, Loss: 0.0000092387\n",
      "Epoch: 7100, Loss: 0.0000082016\n",
      "Epoch: 7200, Loss: 0.0000077963\n",
      "Epoch: 7300, Loss: 0.0000077247\n",
      "Epoch: 7400, Loss: 0.0000071287\n",
      "Epoch: 7500, Loss: 0.0000065267\n",
      "Epoch: 7600, Loss: 0.0000062287\n",
      "Epoch: 7700, Loss: 0.0000059902\n",
      "Epoch: 7800, Loss: 0.0000060201\n",
      "Epoch: 7900, Loss: 0.0000054598\n",
      "Epoch: 8000, Loss: 0.0000057220\n",
      "Epoch: 8100, Loss: 0.0000055075\n",
      "Epoch: 8200, Loss: 0.0000046193\n",
      "Epoch: 8300, Loss: 0.0000044346\n",
      "Epoch: 8400, Loss: 0.0000041485\n",
      "Epoch: 8500, Loss: 0.0000039339\n",
      "Epoch: 8600, Loss: 0.0000036716\n",
      "Epoch: 8700, Loss: 0.0000036061\n",
      "Epoch: 8800, Loss: 0.0000036359\n",
      "Epoch: 8900, Loss: 0.0000037908\n",
      "Epoch: 9000, Loss: 0.0000032484\n",
      "Epoch: 9100, Loss: 0.0000030279\n",
      "Epoch: 9200, Loss: 0.0000028014\n",
      "Epoch: 9300, Loss: 0.0000025749\n",
      "Epoch: 9400, Loss: 0.0000025630\n",
      "Epoch: 9500, Loss: 0.0000023544\n",
      "Epoch: 9600, Loss: 0.0000025034\n",
      "Epoch: 9700, Loss: 0.0000024319\n",
      "Epoch: 9800, Loss: 0.0000020564\n",
      "Epoch: 9900, Loss: 0.0000020266\n",
      "Epoch: 10000, Loss: 0.0000018477\n"
     ]
    }
   ],
   "execution_count": 9
  },
  {
   "cell_type": "code",
   "source": [
    "import matplotlib.pyplot as plt\n",
    "import seaborn as sns\n",
    "plt.rcParams[\"font.family\"] = [\"Arial Unicode MS\"]\n",
    "plt.rcParams[\"font.sans-serif\"] = [\"Arial Unicode MS\"]\n",
    "plt.rcParams[\"axes.unicode_minus\"] = False\n",
    "\n",
    "def visualize_attention(source_sentence, predicted_sentence, atten_weights):\n",
    "    plt.figure(figsize=(10, 10))\n",
    "    ax = sns.heatmap(atten_weights, annot=True, cbar=False,\n",
    "                     xticklabels=source_sentence.split(),\n",
    "                     yticklabels=predicted_sentence,\n",
    "                     cmap=\"Greens\")\n",
    "    plt.xlabel(\"源序列\")\n",
    "    plt.ylabel(\"目标序列\")\n",
    "    plt.show()"
   ],
   "metadata": {
    "collapsed": false,
    "ExecuteTime": {
     "end_time": "2024-06-11T09:35:05.170520Z",
     "start_time": "2024-06-11T09:35:05.165347Z"
    }
   },
   "id": "650aaa88a56deb14",
   "outputs": [],
   "execution_count": 10
  },
  {
   "cell_type": "code",
   "source": [
    "def test_seq2seq(model, source_sentence):\n",
    "    encoder_input = np.array([[word_2_idx_cn[w] for w in source_sentence.split()]])\n",
    "    decoder_input = np.array([word_2_idx_en[\"<sos>\"]] + [word_2_idx_en[\"<eos>\"]]*(len(encoder_input[0])-1))\n",
    "    encoder_input = torch.LongTensor(encoder_input)\n",
    "    decoder_input = torch.LongTensor(decoder_input).unsqueeze(0)\n",
    "    hidden = torch.zeros(1, encoder_input.size(0), n_hidden)\n",
    "    predict,  attn_weights = model(encoder_input, hidden, decoder_input)\n",
    "    predict = predict.data.max(2, keepdim=True)[1]\n",
    "    print(f\"{source_sentence} -> {[idx_2_word_en[n.item()] for n in predict.squeeze()]}\")\n",
    "    attn_weights = attn_weights.squeeze(0).detach().numpy()\n",
    "    visualize_attention(source_sentence, [idx_2_word_en[n.item()] for n in predict.squeeze()], attn_weights)\n",
    "\n",
    "test_seq2seq(model, \"咖哥 喜欢 小冰\")\n",
    "test_seq2seq(model, \"自然 语言 处理 很 强大\")"
   ],
   "metadata": {
    "collapsed": false,
    "ExecuteTime": {
     "end_time": "2024-06-11T09:35:20.652366Z",
     "start_time": "2024-06-11T09:35:20.349956Z"
    }
   },
   "id": "4c629e42364e5848",
   "outputs": [
    {
     "name": "stdout",
     "output_type": "stream",
     "text": [
      "咖哥 喜欢 小冰 -> ['KaGe', 'likes', 'XiaoBing']\n"
     ]
    },
    {
     "data": {
      "text/plain": [
       "<Figure size 1000x1000 with 1 Axes>"
      ],
      "image/png": "[encoded data removed]"
     },
     "metadata": {},
     "output_type": "display_data"
    },
    {
     "name": "stdout",
     "output_type": "stream",
     "text": [
      "自然 语言 处理 很 强大 -> ['NLP', 'is', 'XiaoBing', 'powerful', '<eos>']\n"
     ]
    },
    {
     "data": {
      "text/plain": [
       "<Figure size 1000x1000 with 1 Axes>"
      ],
      "image/png": "[encoded data removed]"
     },
     "metadata": {},
     "output_type": "display_data"
    }
   ],
   "execution_count": 11
  },
  {
   "cell_type": "code",
   "source": [],
   "metadata": {
    "collapsed": false
   },
   "id": "ccf289962de0aebb",
   "execution_count": null,
   "outputs": []
  }
 ],
 "metadata": {
  "kernelspec": {
   "display_name": "Python 3",
   "language": "python",
   "name": "python3"
  },
  "language_info": {
   "codemirror_mode": {
    "name": "ipython",
    "version": 2
   },
   "file_extension": ".py",
   "mimetype": "text/x-python",
   "name": "python",
   "nbconvert_exporter": "python",
   "pygments_lexer": "ipython2",
   "version": "2.7.6"
  }
 },
 "nbformat": 4,
 "nbformat_minor": 5
}
